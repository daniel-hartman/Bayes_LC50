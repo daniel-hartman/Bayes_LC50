{
 "cells": [
  {
   "cell_type": "code",
   "execution_count": 2,
   "metadata": {
    "tags": [
     "hide_code"
    ]
   },
   "outputs": [
    {
     "name": "stderr",
     "output_type": "stream",
     "text": [
      "/home/daniel-hartman/anaconda3/envs/stan/lib/python3.13/site-packages/tqdm/auto.py:21: TqdmWarning: IProgress not found. Please update jupyter and ipywidgets. See https://ipywidgets.readthedocs.io/en/stable/user_install.html\n",
      "  from .autonotebook import tqdm as notebook_tqdm\n",
      "/tmp/ipykernel_13448/4177433217.py:13: FutureWarning: Downcasting behavior in `replace` is deprecated and will be removed in a future version. To retain the old behavior, explicitly call `result.infer_objects(copy=False)`. To opt-in to the future behavior, set `pd.set_option('future.no_silent_downcasting', True)`\n",
      "  repl = df['generation'].replace(         #replace generation with integer for STAN\n"
     ]
    }
   ],
   "source": [
    "import pandas as pd\n",
    "import numpy as np\n",
    "import matplotlib.pyplot as plt\n",
    "import cmdstanpy as stan\n",
    "import os\n",
    "np.set_printoptions(legacy=\"1.25\")\n",
    "\n",
    "df = pd.read_csv('siaya_CFP.csv')\n",
    "df = df.assign(mort72 = df['hr72'] / df['total'])\n",
    "df.head(3)\n",
    "\n",
    "#downcasting happening automatically - will be deprecated in future python\n",
    "repl = df['generation'].replace(         #replace generation with integer for STAN\n",
    "    to_replace=df['generation'].unique(),\n",
    "    value=range(1, 5)\n",
    "    )\n"
   ]
  },
  {
   "cell_type": "code",
   "execution_count": 7,
   "metadata": {},
   "outputs": [],
   "source": [
    "mort_ind = []\n",
    "for row in range(len(df)):\n",
    "    mort_ind.extend(np.repeat(1, df['hr72'][row]))\n",
    "    mort_ind.extend(np.repeat(0 , df['total'][row] - df['hr72'][row]))\n",
    "\n",
    "replicate = []\n",
    "for row in range(len(df)):\n",
    "    replicate.extend(np.repeat(repl[row], df['total'][row]))\n",
    "\n",
    "dose = []\n",
    "for row in range(len(df)):\n",
    "    dose.extend(np.repeat(df['Dose'][row], df['total'][row]))\n",
    "\n",
    "logisticdata =  {\n",
    "    \"D\": 1,\n",
    "    \"N\": len(mort_ind),\n",
    "    \"L\": 4,\n",
    "    \"y\": mort_ind,\n",
    "    \"ll\": replicate,\n",
    "    \"x\": dose,\n",
    "}\n",
    "stan.write_stan_json(\"data.json\", logisticdata)"
   ]
  },
  {
   "cell_type": "code",
   "execution_count": 8,
   "metadata": {},
   "outputs": [],
   "source": [
    "#building the dictionary of data for STAN\n",
    "bottle_data = {\n",
    "    \"D\": 1,\n",
    "    \"N\": len(mort_ind),\n",
    "    \"L\": 4, #figure out how to get this automatically from unique values of 'generation'\n",
    "    \"y\": mort_ind,\n",
    "    \"ll\": replicate,\n",
    "    \"x\": dose\n",
    "}\n",
    "stan.write_stan_json(\"data.json\", bottle_data)"
   ]
  },
  {
   "cell_type": "code",
   "execution_count": 10,
   "metadata": {},
   "outputs": [
    {
     "name": "stderr",
     "output_type": "stream",
     "text": [
      "14:45:52 - cmdstanpy - INFO - compiling stan file /home/daniel-hartman/Documents/OPEN_projects/Bayes_LC50/logistic.stan to exe file /home/daniel-hartman/Documents/OPEN_projects/Bayes_LC50/logistic\n",
      "14:46:06 - cmdstanpy - INFO - compiled model executable: /home/daniel-hartman/Documents/OPEN_projects/Bayes_LC50/logistic\n",
      "14:46:06 - cmdstanpy - INFO - Chain [1] start processing\n"
     ]
    },
    {
     "name": "stdout",
     "output_type": "stream",
     "text": [
      "Chain [1] method = sample (Default)\n",
      "Chain [1] sample\n",
      "Chain [1] num_samples = 2000\n",
      "Chain [1] num_warmup = 1000 (Default)\n",
      "Chain [1] save_warmup = false (Default)\n",
      "Chain [1] thin = 1 (Default)\n",
      "Chain [1] adapt\n",
      "Chain [1] engaged = true (Default)\n",
      "Chain [1] gamma = 0.05 (Default)\n",
      "Chain [1] delta = 0.8 (Default)\n",
      "Chain [1] kappa = 0.75 (Default)\n",
      "Chain [1] t0 = 10 (Default)\n",
      "Chain [1] init_buffer = 75 (Default)\n",
      "Chain [1] term_buffer = 50 (Default)\n",
      "Chain [1] window = 25 (Default)\n",
      "Chain [1] save_metric = false (Default)\n",
      "Chain [1] algorithm = hmc (Default)\n",
      "Chain [1] hmc\n",
      "Chain [1] engine = nuts (Default)\n",
      "Chain [1] nuts\n",
      "Chain [1] max_depth = 10 (Default)\n",
      "Chain [1] metric = diag_e (Default)\n",
      "Chain [1] metric_file =  (Default)\n",
      "Chain [1] stepsize = 1 (Default)\n",
      "Chain [1] stepsize_jitter = 0 (Default)\n",
      "Chain [1] num_chains = 1 (Default)\n",
      "Chain [1] id = 1 (Default)\n",
      "Chain [1] data\n",
      "Chain [1] file = data.json\n",
      "Chain [1] init = 0\n",
      "Chain [1] random\n",
      "Chain [1] seed = 17271\n",
      "Chain [1] output\n",
      "Chain [1] file = /home/daniel-hartman/Documents/OPEN_projects/Bayes_LC50/runfiles/logistic-20250510144606.csv\n",
      "Chain [1] diagnostic_file =  (Default)\n",
      "Chain [1] refresh = 100 (Default)\n",
      "Chain [1] sig_figs = -1 (Default)\n",
      "Chain [1] profile_file = profile.csv (Default)\n",
      "Chain [1] save_cmdstan_config = false (Default)\n",
      "Chain [1] num_threads = 1 (Default)\n",
      "Chain [1] \n",
      "Chain [1] \n",
      "Chain [1] Gradient evaluation took 0.000255 seconds\n",
      "Chain [1] 1000 transitions using 10 leapfrog steps per transition would take 2.55 seconds.\n",
      "Chain [1] Adjust your expectations accordingly!\n",
      "Chain [1] \n",
      "Chain [1] \n",
      "Chain [1] Iteration:    1 / 3000 [  0%]  (Warmup)\n",
      "Chain [1] Iteration:  100 / 3000 [  3%]  (Warmup)\n",
      "Chain [1] Iteration:  200 / 3000 [  6%]  (Warmup)\n",
      "Chain [1] Iteration:  300 / 3000 [ 10%]  (Warmup)\n",
      "Chain [1] Iteration:  400 / 3000 [ 13%]  (Warmup)\n",
      "Chain [1] Iteration:  500 / 3000 [ 16%]  (Warmup)\n",
      "Chain [1] Iteration:  600 / 3000 [ 20%]  (Warmup)\n",
      "Chain [1] Iteration:  700 / 3000 [ 23%]  (Warmup)\n",
      "Chain [1] Iteration:  800 / 3000 [ 26%]  (Warmup)\n",
      "Chain [1] Iteration:  900 / 3000 [ 30%]  (Warmup)\n",
      "Chain [1] Iteration: 1000 / 3000 [ 33%]  (Warmup)\n",
      "Chain [1] Iteration: 1001 / 3000 [ 33%]  (Sampling)\n",
      "Chain [1] Iteration: 1100 / 3000 [ 36%]  (Sampling)\n",
      "Chain [1] Iteration: 1200 / 3000 [ 40%]  (Sampling)\n",
      "Chain [1] Iteration: 1300 / 3000 [ 43%]  (Sampling)\n",
      "Chain [1] Iteration: 1400 / 3000 [ 46%]  (Sampling)\n",
      "Chain [1] Iteration: 1500 / 3000 [ 50%]  (Sampling)\n",
      "Chain [1] Iteration: 1600 / 3000 [ 53%]  (Sampling)\n",
      "Chain [1] Iteration: 1700 / 3000 [ 56%]  (Sampling)\n",
      "Chain [1] Iteration: 1800 / 3000 [ 60%]  (Sampling)\n",
      "Chain [1] Iteration: 1900 / 3000 [ 63%]  (Sampling)\n",
      "Chain [1] Iteration: 2000 / 3000 [ 66%]  (Sampling)\n",
      "Chain [1] Iteration: 2100 / 3000 [ 70%]  (Sampling)\n",
      "Chain [1] Iteration: 2200 / 3000 [ 73%]  (Sampling)\n",
      "Chain [1] Iteration: 2300 / 3000 [ 76%]  (Sampling)\n",
      "Chain [1] Iteration: 2400 / 3000 [ 80%]  (Sampling)\n",
      "Chain [1] Iteration: 2500 / 3000 [ 83%]  (Sampling)\n",
      "Chain [1] Iteration: 2600 / 3000 [ 86%]  (Sampling)\n",
      "Chain [1] Iteration: 2700 / 3000 [ 90%]  (Sampling)\n"
     ]
    },
    {
     "name": "stderr",
     "output_type": "stream",
     "text": [
      "14:46:10 - cmdstanpy - INFO - Chain [1] done processing\n",
      "14:46:10 - cmdstanpy - WARNING - Some chains may have failed to converge.\n",
      "\tChain 1 had 1 divergent transitions (0.1%)\n",
      "\tUse the \"diagnose()\" method on the CmdStanMCMC object to see further information.\n"
     ]
    },
    {
     "name": "stdout",
     "output_type": "stream",
     "text": [
      "Chain [1] Iteration: 2800 / 3000 [ 93%]  (Sampling)\n",
      "Chain [1] Iteration: 2900 / 3000 [ 96%]  (Sampling)\n",
      "Chain [1] Iteration: 3000 / 3000 [100%]  (Sampling)\n",
      "Chain [1] \n",
      "Chain [1] Elapsed Time: 2.979 seconds (Warm-up)\n",
      "Chain [1] 1.494 seconds (Sampling)\n",
      "Chain [1] 4.473 seconds (Total)\n",
      "Chain [1] \n",
      "Chain [1] \n"
     ]
    },
    {
     "data": {
      "text/plain": [
       "CmdStanMCMC: model=logistic chains=1['method=sample', 'num_samples=2000', 'algorithm=hmc', 'adapt', 'engaged=1']\n",
       " csv_files:\n",
       "\t/home/daniel-hartman/Documents/OPEN_projects/Bayes_LC50/runfiles/logistic-20250510144606.csv\n",
       " output_files:\n",
       "\t/home/daniel-hartman/Documents/OPEN_projects/Bayes_LC50/runfiles/logistic-20250510144606_0-stdout.txt"
      ]
     },
     "execution_count": 10,
     "metadata": {},
     "output_type": "execute_result"
    }
   ],
   "source": [
    "my_stanfile = os.path.join('.', 'logistic.stan')\n",
    "my_model = stan.CmdStanModel(stan_file=my_stanfile, cpp_options={'STAN_THREADS':'true'})\n",
    "my_model.name\n",
    "my_model.stan_file\n",
    "my_model.exe_file\n",
    "my_model.code()\n",
    "my_model.sample(data='data.json', show_console=True, iter_sampling=2000, \n",
    "                chains=1, output_dir=os.path.join('.', 'runfiles'), inits=0)\n",
    "\n",
    "# bern_stanfile = os.path.join('.', 'bernoulli_simple.stan')\n",
    "# bern_model = stan.CmdStanModel(stan_file=bern_stanfile, cpp_options={'STAN_THREADS':'true'})\n",
    "\n",
    "# bern_model.sample(data='data.json', show_console=True, iter_sampling=2000, \n",
    "#                 chains=1, output_dir=os.path.join('.', 'runfiles'), inits=0)\n"
   ]
  },
  {
   "cell_type": "code",
   "execution_count": null,
   "metadata": {},
   "outputs": [],
   "source": []
  }
 ],
 "metadata": {
  "kernelspec": {
   "display_name": "stan",
   "language": "python",
   "name": "python3"
  },
  "language_info": {
   "codemirror_mode": {
    "name": "ipython",
    "version": 3
   },
   "file_extension": ".py",
   "mimetype": "text/x-python",
   "name": "python",
   "nbconvert_exporter": "python",
   "pygments_lexer": "ipython3",
   "version": "3.13.3"
  }
 },
 "nbformat": 4,
 "nbformat_minor": 2
}
