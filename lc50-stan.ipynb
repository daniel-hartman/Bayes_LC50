{
 "cells": [
  {
   "cell_type": "code",
   "execution_count": 41,
   "metadata": {
    "tags": [
     "hide_code"
    ]
   },
   "outputs": [
    {
     "name": "stderr",
     "output_type": "stream",
     "text": [
      "/tmp/ipykernel_160486/4177433217.py:13: FutureWarning: Downcasting behavior in `replace` is deprecated and will be removed in a future version. To retain the old behavior, explicitly call `result.infer_objects(copy=False)`. To opt-in to the future behavior, set `pd.set_option('future.no_silent_downcasting', True)`\n",
      "  repl = df['generation'].replace(         #replace generation with integer for STAN\n"
     ]
    }
   ],
   "source": [
    "import pandas as pd\n",
    "import numpy as np\n",
    "import matplotlib.pyplot as plt\n",
    "import cmdstanpy as stan\n",
    "import os\n",
    "np.set_printoptions(legacy=\"1.25\")\n",
    "\n",
    "df = pd.read_csv('siaya_CFP.csv')\n",
    "df = df.assign(mort72 = df['hr72'] / df['total'])\n",
    "df.head(3)\n",
    "\n",
    "#downcasting happening automatically - will be deprecated in future python\n",
    "repl = df['generation'].replace(         #replace generation with integer for STAN\n",
    "    to_replace=df['generation'].unique(),\n",
    "    value=range(1, 5)\n",
    "    )\n"
   ]
  },
  {
   "cell_type": "code",
   "execution_count": 47,
   "metadata": {},
   "outputs": [],
   "source": [
    "mort_ind = []\n",
    "for row in range(len(df)):\n",
    "    mort_ind.extend(np.repeat(1, df['hr72'][row]))\n",
    "    mort_ind.extend(np.repeat(0 , df['total'][row] - df['hr72'][row]))\n",
    "\n",
    "replicate = []\n",
    "for row in range(len(df)):\n",
    "    replicate.extend(np.repeat(repl[row], df['total'][row]))\n",
    "\n",
    "dose = []\n",
    "for row in range(len(df)):\n",
    "    dose.extend(np.repeat(df['Dose'][row], df['total'][row]))\n",
    "\n",
    "logisticdata =  {\n",
    "    \"D\": 1,\n",
    "    \"N\": len(mort_ind),\n",
    "    \"L\": 4,\n",
    "    \"y\": mort_ind,\n",
    "    \"ll\": replicate,\n",
    "    \"x\": dose,\n",
    "}\n",
    "stan.write_stan_json(\"data.json\", logisticdata)"
   ]
  },
  {
   "cell_type": "code",
   "execution_count": 15,
   "metadata": {},
   "outputs": [],
   "source": [
    "#building the dictionary of data for STAN\n",
    "bottle_data = {\n",
    "    \"D\": 1,\n",
    "    \"N\": len(mort_ind),\n",
    "    \"L\": 4, #figure out how to get this automatically from unique values of 'generation'\n",
    "    \"y\": mort_ind,\n",
    "    \"ll\": replicate,\n",
    "    \"x\": dose\n",
    "}\n",
    "stan.write_stan_json(\"data.json\", bottle_data)"
   ]
  },
  {
   "cell_type": "code",
   "execution_count": 48,
   "metadata": {},
   "outputs": [
    {
     "name": "stderr",
     "output_type": "stream",
     "text": [
      "09:01:44 - cmdstanpy - INFO - Chain [1] start processing\n",
      "09:01:45 - cmdstanpy - INFO - Chain [1] done processing\n",
      "09:01:45 - cmdstanpy - ERROR - Chain [1] error: terminated by signal 11 Unknown error -11\n"
     ]
    },
    {
     "name": "stdout",
     "output_type": "stream",
     "text": [
      "Chain [1] \n"
     ]
    },
    {
     "ename": "RuntimeError",
     "evalue": "Error during sampling:\n\nCommand and output files:\nRunSet: chains=1, chain_ids=[1], num_processes=1\n cmd (chain 1):\n\t['/home/daniel-hartman/Documents/OPEN_projects/Bayes_LC50/logistic', 'id=1', 'random', 'seed=88619', 'data', 'file=data.json', 'init=0', 'output', 'file=/home/daniel-hartman/Documents/OPEN_projects/Bayes_LC50/runfiles/logistic-20250501090144.csv', 'method=sample', 'num_samples=2000', 'algorithm=hmc', 'adapt', 'engaged=1']\n retcodes=[-11]\n per-chain output files (showing chain 1 only):\n csv_file:\n\t/home/daniel-hartman/Documents/OPEN_projects/Bayes_LC50/runfiles/logistic-20250501090144.csv\n console_msgs (if any):\n\t/home/daniel-hartman/Documents/OPEN_projects/Bayes_LC50/runfiles/logistic-20250501090144_0-stdout.txt",
     "output_type": "error",
     "traceback": [
      "\u001b[31m---------------------------------------------------------------------------\u001b[39m",
      "\u001b[31mRuntimeError\u001b[39m                              Traceback (most recent call last)",
      "\u001b[36mCell\u001b[39m\u001b[36m \u001b[39m\u001b[32mIn[48]\u001b[39m\u001b[32m, line 7\u001b[39m\n\u001b[32m      5\u001b[39m my_model.exe_file\n\u001b[32m      6\u001b[39m my_model.code()\n\u001b[32m----> \u001b[39m\u001b[32m7\u001b[39m my_model.sample(data=\u001b[33m'\u001b[39m\u001b[33mdata.json\u001b[39m\u001b[33m'\u001b[39m, show_console=\u001b[38;5;28;01mTrue\u001b[39;00m, iter_sampling=\u001b[32m2000\u001b[39m, \n\u001b[32m      8\u001b[39m                 chains=\u001b[32m1\u001b[39m, output_dir=os.path.join(\u001b[33m'\u001b[39m\u001b[33m.\u001b[39m\u001b[33m'\u001b[39m, \u001b[33m'\u001b[39m\u001b[33mrunfiles\u001b[39m\u001b[33m'\u001b[39m), inits=\u001b[32m0\u001b[39m)\n",
      "\u001b[36mFile \u001b[39m\u001b[32m~/anaconda3/envs/stan/lib/python3.13/site-packages/cmdstanpy/model.py:1136\u001b[39m, in \u001b[36mCmdStanModel.sample\u001b[39m\u001b[34m(self, data, chains, parallel_chains, threads_per_chain, seed, chain_ids, inits, iter_warmup, iter_sampling, save_warmup, thin, max_treedepth, metric, step_size, adapt_engaged, adapt_delta, adapt_init_phase, adapt_metric_window, adapt_step_size, fixed_param, output_dir, sig_figs, save_latent_dynamics, save_profile, show_progress, show_console, refresh, time_fmt, timeout, force_one_process_per_chain)\u001b[39m\n\u001b[32m   1131\u001b[39m     \u001b[38;5;28;01mif\u001b[39;00m \u001b[38;5;129;01mnot\u001b[39;00m show_console:\n\u001b[32m   1132\u001b[39m         msg += (\n\u001b[32m   1133\u001b[39m             \u001b[33m'\u001b[39m\u001b[38;5;130;01m\\n\u001b[39;00m\u001b[33mConsider re-running with show_console=True if the\u001b[39m\u001b[33m'\u001b[39m\n\u001b[32m   1134\u001b[39m             \u001b[33m'\u001b[39m\u001b[33m above output is unclear!\u001b[39m\u001b[33m'\u001b[39m\n\u001b[32m   1135\u001b[39m         )\n\u001b[32m-> \u001b[39m\u001b[32m1136\u001b[39m     \u001b[38;5;28;01mraise\u001b[39;00m \u001b[38;5;167;01mRuntimeError\u001b[39;00m(msg)\n\u001b[32m   1137\u001b[39m \u001b[38;5;28;01mif\u001b[39;00m errors:\n\u001b[32m   1138\u001b[39m     msg = \u001b[33mf\u001b[39m\u001b[33m'\u001b[39m\u001b[33mNon-fatal error during sampling:\u001b[39m\u001b[38;5;130;01m\\n\u001b[39;00m\u001b[38;5;132;01m{\u001b[39;00merrors\u001b[38;5;132;01m}\u001b[39;00m\u001b[33m'\u001b[39m\n",
      "\u001b[31mRuntimeError\u001b[39m: Error during sampling:\n\nCommand and output files:\nRunSet: chains=1, chain_ids=[1], num_processes=1\n cmd (chain 1):\n\t['/home/daniel-hartman/Documents/OPEN_projects/Bayes_LC50/logistic', 'id=1', 'random', 'seed=88619', 'data', 'file=data.json', 'init=0', 'output', 'file=/home/daniel-hartman/Documents/OPEN_projects/Bayes_LC50/runfiles/logistic-20250501090144.csv', 'method=sample', 'num_samples=2000', 'algorithm=hmc', 'adapt', 'engaged=1']\n retcodes=[-11]\n per-chain output files (showing chain 1 only):\n csv_file:\n\t/home/daniel-hartman/Documents/OPEN_projects/Bayes_LC50/runfiles/logistic-20250501090144.csv\n console_msgs (if any):\n\t/home/daniel-hartman/Documents/OPEN_projects/Bayes_LC50/runfiles/logistic-20250501090144_0-stdout.txt"
     ]
    }
   ],
   "source": [
    "my_stanfile = os.path.join('.', 'logistic.stan')\n",
    "my_model = stan.CmdStanModel(stan_file=my_stanfile, cpp_options={'STAN_THREADS':'true'})\n",
    "my_model.name\n",
    "my_model.stan_file\n",
    "my_model.exe_file\n",
    "my_model.code()\n",
    "my_model.sample(data='data.json', show_console=True, iter_sampling=2000, \n",
    "                chains=1, output_dir=os.path.join('.', 'runfiles'), inits=0)\n",
    "\n",
    "# bern_stanfile = os.path.join('.', 'bernoulli_simple.stan')\n",
    "# bern_model = stan.CmdStanModel(stan_file=bern_stanfile, cpp_options={'STAN_THREADS':'true'})\n",
    "\n",
    "# bern_model.sample(data='data.json', show_console=True, iter_sampling=2000, \n",
    "#                 chains=1, output_dir=os.path.join('.', 'runfiles'), inits=0)\n"
   ]
  },
  {
   "cell_type": "code",
   "execution_count": null,
   "metadata": {},
   "outputs": [],
   "source": []
  }
 ],
 "metadata": {
  "kernelspec": {
   "display_name": "stan",
   "language": "python",
   "name": "python3"
  },
  "language_info": {
   "codemirror_mode": {
    "name": "ipython",
    "version": 3
   },
   "file_extension": ".py",
   "mimetype": "text/x-python",
   "name": "python",
   "nbconvert_exporter": "python",
   "pygments_lexer": "ipython3",
   "version": "3.13.2"
  }
 },
 "nbformat": 4,
 "nbformat_minor": 2
}
